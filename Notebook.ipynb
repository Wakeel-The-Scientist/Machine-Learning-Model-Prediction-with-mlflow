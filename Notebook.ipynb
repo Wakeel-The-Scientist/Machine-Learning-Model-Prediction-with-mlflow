{
 "cells": [
  {
   "cell_type": "code",
   "execution_count": null,
   "metadata": {
    "vscode": {
     "languageId": "plaintext"
    }
   },
   "outputs": [],
   "source": [
    "# Retrieve the model URI from MLflow\n",
    "model_info.model_uri\n",
    "\n",
    "# Load the trained MLflow model as a PyFuncModel\n",
    "loaded_model = mlflow.pyfunc.load_model(model_info.model_uri)\n",
    "\n",
    "# Make predictions on test data\n",
    "predictions = loaded_model.predict(X_test)\n",
    "\n",
    "# Load Iris dataset feature names\n",
    "iris_feature_name = datasets.load_iris().feature_names\n",
    "\n",
    "# Create a results DataFrame\n",
    "result = pd.DataFrame(X_test, columns=iris_feature_name)\n",
    "result[\"actual_class\"] = y_test\n",
    "result[\"predicted_class\"] = predictions\n",
    "\n",
    "# Display the first few rows of the results\n",
    "result.head()"
   ]
  }
 ],
 "metadata": {
  "language_info": {
   "name": "python"
  }
 },
 "nbformat": 4,
 "nbformat_minor": 2
}
